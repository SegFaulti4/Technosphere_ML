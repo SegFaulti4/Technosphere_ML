{
 "cells": [
  {
   "cell_type": "code",
   "execution_count": 1,
   "metadata": {},
   "outputs": [],
   "source": [
    "import numpy as np\n",
    "import pandas as pd\n",
    "import string\n",
    "from sklearn.metrics import f1_score\n",
    "from sklearn.feature_extraction.text import CountVectorizer\n",
    "from sklearn.linear_model import SGDClassifier\n",
    "from nltk import word_tokenize\n",
    "import nltk\n",
    "from nltk.probability import FreqDist\n",
    "from nltk.corpus import stopwords\n",
    "russian_stopwords = stopwords.words(\"russian\")\n",
    "english_stopwords = stopwords.words(\"english\")\n",
    "\n",
    "vectorizer = CountVectorizer()\n",
    "model = SGDClassifier()"
   ]
  },
  {
   "cell_type": "code",
   "execution_count": 2,
   "metadata": {},
   "outputs": [],
   "source": [
    "train_df = pd.read_csv(\"train.csv\")\n",
    "test_df = pd.read_csv(\"test.csv\")"
   ]
  },
  {
   "cell_type": "code",
   "execution_count": 3,
   "metadata": {},
   "outputs": [
    {
     "data": {
      "text/plain": [
       "0.9516430171769977"
      ]
     },
     "execution_count": 3,
     "metadata": {},
     "output_type": "execute_result"
    }
   ],
   "source": [
    "X_train = train_df[\"title\"].values\n",
    "X_test = test_df[\"title\"].values\n",
    "Y_train = train_df[\"target\"].astype(int).values\n",
    "\n",
    "Dicktionary = train_df[train_df.target == True][\"title\"].values\n",
    "\n",
    "X_train_vectorized = vectorizer.fit(Dicktionary).transform(X_train)\n",
    "model.fit(X_train_vectorized, Y_train)\n",
    "Y_pred = model.predict(X_train_vectorized)\n",
    "f1_score(Y_train, Y_pred)"
   ]
  },
  {
   "cell_type": "code",
   "execution_count": 5,
   "metadata": {},
   "outputs": [
    {
     "name": "stdout",
     "output_type": "stream",
     "text": [
      "id,target\r\n",
      "135309,False\r\n",
      "135310,False\r\n",
      "135311,False\r\n",
      "135312,True\r\n",
      "135313,False\r\n",
      "135314,False\r\n",
      "135315,False\r\n",
      "135316,False\r\n",
      "135317,False\r\n",
      "cat: write error: Broken pipe\r\n"
     ]
    }
   ],
   "source": [
    "X_test_vectorized = vectorizer.fit(Dicktionary).transform(X_test)\n",
    "test_df[\"target\"] = model.predict(X_test_vectorized).astype(bool)\n",
    "test_df[[\"id\", \"target\"]].to_csv(\"kaggle_submit.csv\", index=False)\n",
    "!cat ml_baseline.csv | head"
   ]
  },
  {
   "cell_type": "code",
   "execution_count": null,
   "metadata": {},
   "outputs": [],
   "source": []
  }
 ],
 "metadata": {
  "kernelspec": {
   "display_name": "Python 3",
   "language": "python",
   "name": "python3"
  },
  "language_info": {
   "codemirror_mode": {
    "name": "ipython",
    "version": 3
   },
   "file_extension": ".py",
   "mimetype": "text/x-python",
   "name": "python",
   "nbconvert_exporter": "python",
   "pygments_lexer": "ipython3",
   "version": "3.8.5"
  }
 },
 "nbformat": 4,
 "nbformat_minor": 4
}
